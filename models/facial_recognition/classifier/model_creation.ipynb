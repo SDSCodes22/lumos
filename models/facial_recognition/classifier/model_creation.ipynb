{
  "cells": [
    {
      "cell_type": "code",
      "execution_count": 1,
      "metadata": {
        "colab": {
          "base_uri": "https://localhost:8080/"
        },
        "id": "_yvJ3Fi-U3CB",
        "outputId": "f4c550d7-3db4-44ad-a979-4ff54089d4d7"
      },
      "outputs": [
        {
          "name": "stdout",
          "output_type": "stream",
          "text": [
            "Collecting transformers==4.37.2\n",
            "  Downloading transformers-4.37.2-py3-none-any.whl.metadata (129 kB)\n",
            "\u001b[2K     \u001b[90m━━━━━━━━━━━━━━━━━━━━━━━━━━━━━━━━━━━━━━━\u001b[0m \u001b[32m129.4/129.4 kB\u001b[0m \u001b[31m1.3 MB/s\u001b[0m eta \u001b[36m0:00:00\u001b[0ma \u001b[36m0:00:01\u001b[0m\n",
            "\u001b[?25hRequirement already satisfied: filelock in /Users/munmun/opt/anaconda3/lib/python3.8/site-packages (from transformers==4.37.2) (3.13.1)\n",
            "Collecting huggingface-hub<1.0,>=0.19.3 (from transformers==4.37.2)\n",
            "  Using cached huggingface_hub-0.22.2-py3-none-any.whl.metadata (12 kB)\n",
            "Requirement already satisfied: numpy>=1.17 in /Users/munmun/opt/anaconda3/lib/python3.8/site-packages (from transformers==4.37.2) (1.19.5)\n",
            "Requirement already satisfied: packaging>=20.0 in /Users/munmun/opt/anaconda3/lib/python3.8/site-packages (from transformers==4.37.2) (23.2)\n",
            "Requirement already satisfied: pyyaml>=5.1 in /Users/munmun/opt/anaconda3/lib/python3.8/site-packages (from transformers==4.37.2) (5.4.1)\n",
            "Requirement already satisfied: regex!=2019.12.17 in /Users/munmun/opt/anaconda3/lib/python3.8/site-packages (from transformers==4.37.2) (2023.10.3)\n",
            "Requirement already satisfied: requests in /Users/munmun/opt/anaconda3/lib/python3.8/site-packages (from transformers==4.37.2) (2.31.0)\n",
            "Collecting tokenizers<0.19,>=0.14 (from transformers==4.37.2)\n",
            "  Downloading tokenizers-0.15.2-cp38-cp38-macosx_11_0_arm64.whl.metadata (6.7 kB)\n",
            "Collecting safetensors>=0.4.1 (from transformers==4.37.2)\n",
            "  Downloading safetensors-0.4.2-cp38-cp38-macosx_11_0_arm64.whl.metadata (3.8 kB)\n",
            "Requirement already satisfied: tqdm>=4.27 in /Users/munmun/opt/anaconda3/lib/python3.8/site-packages (from transformers==4.37.2) (4.65.0)\n",
            "Requirement already satisfied: fsspec>=2023.5.0 in /Users/munmun/opt/anaconda3/lib/python3.8/site-packages (from huggingface-hub<1.0,>=0.19.3->transformers==4.37.2) (2023.10.0)\n",
            "Requirement already satisfied: typing-extensions>=3.7.4.3 in /Users/munmun/opt/anaconda3/lib/python3.8/site-packages (from huggingface-hub<1.0,>=0.19.3->transformers==4.37.2) (4.9.0)\n",
            "Requirement already satisfied: charset-normalizer<4,>=2 in /Users/munmun/opt/anaconda3/lib/python3.8/site-packages (from requests->transformers==4.37.2) (2.0.4)\n",
            "Requirement already satisfied: idna<4,>=2.5 in /Users/munmun/opt/anaconda3/lib/python3.8/site-packages (from requests->transformers==4.37.2) (3.4)\n",
            "Requirement already satisfied: urllib3<3,>=1.21.1 in /Users/munmun/opt/anaconda3/lib/python3.8/site-packages (from requests->transformers==4.37.2) (2.1.0)\n",
            "Requirement already satisfied: certifi>=2017.4.17 in /Users/munmun/opt/anaconda3/lib/python3.8/site-packages (from requests->transformers==4.37.2) (2021.5.30)\n",
            "Downloading transformers-4.37.2-py3-none-any.whl (8.4 MB)\n",
            "\u001b[2K   \u001b[90m━━━━━━━━━━━━━━━━━━━━━━━━━━━━━━━━━━━━━━━━\u001b[0m \u001b[32m8.4/8.4 MB\u001b[0m \u001b[31m4.2 MB/s\u001b[0m eta \u001b[36m0:00:00\u001b[0m00:01\u001b[0m00:01\u001b[0m\n",
            "\u001b[?25hUsing cached huggingface_hub-0.22.2-py3-none-any.whl (388 kB)\n",
            "Downloading safetensors-0.4.2-cp38-cp38-macosx_11_0_arm64.whl (392 kB)\n",
            "\u001b[2K   \u001b[90m━━━━━━━━━━━━━━━━━━━━━━━━━━━━━━━━━━━━━━━━\u001b[0m \u001b[32m392.9/392.9 kB\u001b[0m \u001b[31m1.7 MB/s\u001b[0m eta \u001b[36m0:00:00\u001b[0ma \u001b[36m0:00:01\u001b[0m\n",
            "\u001b[?25hDownloading tokenizers-0.15.2-cp38-cp38-macosx_11_0_arm64.whl (2.4 MB)\n",
            "\u001b[2K   \u001b[90m━━━━━━━━━━━━━━━━━━━━━━━━━━━━━━━━━━━━━━━━\u001b[0m \u001b[32m2.4/2.4 MB\u001b[0m \u001b[31m3.5 MB/s\u001b[0m eta \u001b[36m0:00:00\u001b[0m00:01\u001b[0m00:01\u001b[0m\n",
            "\u001b[?25hInstalling collected packages: safetensors, huggingface-hub, tokenizers, transformers\n",
            "Successfully installed huggingface-hub-0.22.2 safetensors-0.4.2 tokenizers-0.15.2 transformers-4.37.2\n",
            "\n",
            "\u001b[1m[\u001b[0m\u001b[34;49mnotice\u001b[0m\u001b[1;39;49m]\u001b[0m\u001b[39;49m A new release of pip is available: \u001b[0m\u001b[31;49m22.0.3\u001b[0m\u001b[39;49m -> \u001b[0m\u001b[32;49m24.0\u001b[0m\n",
            "\u001b[1m[\u001b[0m\u001b[34;49mnotice\u001b[0m\u001b[1;39;49m]\u001b[0m\u001b[39;49m To update, run: \u001b[0m\u001b[32;49mpip install --upgrade pip\u001b[0m\n"
          ]
        }
      ],
      "source": [
        "!pip install transformers==4.37.2"
      ]
    },
    {
      "cell_type": "code",
      "execution_count": 3,
      "metadata": {},
      "outputs": [
        {
          "name": "stdout",
          "output_type": "stream",
          "text": [
            "Found existing installation: numpy 1.19.5\n",
            "Uninstalling numpy-1.19.5:\n",
            "  Would remove:\n",
            "    /Users/munmun/opt/anaconda3/bin/f2py\n",
            "    /Users/munmun/opt/anaconda3/bin/f2py3\n",
            "    /Users/munmun/opt/anaconda3/bin/f2py3.8\n",
            "    /Users/munmun/opt/anaconda3/lib/python3.8/site-packages/numpy-1.19.5.dist-info/*\n",
            "    /Users/munmun/opt/anaconda3/lib/python3.8/site-packages/numpy/*\n",
            "  Would not remove (might be manually added):\n",
            "    /Users/munmun/opt/anaconda3/lib/python3.8/site-packages/numpy/__init__.pyi\n",
            "    /Users/munmun/opt/anaconda3/lib/python3.8/site-packages/numpy/char.pyi\n",
            "    /Users/munmun/opt/anaconda3/lib/python3.8/site-packages/numpy/core/__init__.pyi\n",
            "    /Users/munmun/opt/anaconda3/lib/python3.8/site-packages/numpy/core/_add_newdocs_scalars.py\n",
            "    /Users/munmun/opt/anaconda3/lib/python3.8/site-packages/numpy/core/_asarray.pyi\n",
            "    /Users/munmun/opt/anaconda3/lib/python3.8/site-packages/numpy/core/_internal.pyi\n",
            "    /Users/munmun/opt/anaconda3/lib/python3.8/site-packages/numpy/core/_simd.cpython-38-darwin.so\n",
            "    /Users/munmun/opt/anaconda3/lib/python3.8/site-packages/numpy/core/_type_aliases.pyi\n",
            "    /Users/munmun/opt/anaconda3/lib/python3.8/site-packages/numpy/core/_ufunc_config.pyi\n",
            "    /Users/munmun/opt/anaconda3/lib/python3.8/site-packages/numpy/core/fromnumeric.pyi\n",
            "    /Users/munmun/opt/anaconda3/lib/python3.8/site-packages/numpy/core/function_base.pyi\n",
            "    /Users/munmun/opt/anaconda3/lib/python3.8/site-packages/numpy/core/numeric.pyi\n",
            "    /Users/munmun/opt/anaconda3/lib/python3.8/site-packages/numpy/core/numerictypes.pyi\n",
            "    /Users/munmun/opt/anaconda3/lib/python3.8/site-packages/numpy/core/shape_base.pyi\n",
            "    /Users/munmun/opt/anaconda3/lib/python3.8/site-packages/numpy/core/tests/examples/checks.pyx\n",
            "    /Users/munmun/opt/anaconda3/lib/python3.8/site-packages/numpy/core/tests/examples/setup.py\n",
            "    /Users/munmun/opt/anaconda3/lib/python3.8/site-packages/numpy/core/tests/test_array_coercion.py\n",
            "    /Users/munmun/opt/anaconda3/lib/python3.8/site-packages/numpy/core/tests/test_casting_unittests.py\n",
            "    /Users/munmun/opt/anaconda3/lib/python3.8/site-packages/numpy/core/tests/test_cpu_dispatcher.py\n",
            "    /Users/munmun/opt/anaconda3/lib/python3.8/site-packages/numpy/core/tests/test_cython.py\n",
            "    /Users/munmun/opt/anaconda3/lib/python3.8/site-packages/numpy/core/tests/test_simd.py\n",
            "    /Users/munmun/opt/anaconda3/lib/python3.8/site-packages/numpy/core/tests/test_simd_module.py\n",
            "    /Users/munmun/opt/anaconda3/lib/python3.8/site-packages/numpy/ctypeslib.pyi\n",
            "    /Users/munmun/opt/anaconda3/lib/python3.8/site-packages/numpy/distutils/__init__.pyi\n",
            "    /Users/munmun/opt/anaconda3/lib/python3.8/site-packages/numpy/distutils/ccompiler_opt.py\n",
            "    /Users/munmun/opt/anaconda3/lib/python3.8/site-packages/numpy/distutils/checks/cpu_asimd.c\n",
            "    /Users/munmun/opt/anaconda3/lib/python3.8/site-packages/numpy/distutils/checks/cpu_asimddp.c\n",
            "    /Users/munmun/opt/anaconda3/lib/python3.8/site-packages/numpy/distutils/checks/cpu_asimdfhm.c\n",
            "    /Users/munmun/opt/anaconda3/lib/python3.8/site-packages/numpy/distutils/checks/cpu_asimdhp.c\n",
            "    /Users/munmun/opt/anaconda3/lib/python3.8/site-packages/numpy/distutils/checks/cpu_avx.c\n",
            "    /Users/munmun/opt/anaconda3/lib/python3.8/site-packages/numpy/distutils/checks/cpu_avx2.c\n",
            "    /Users/munmun/opt/anaconda3/lib/python3.8/site-packages/numpy/distutils/checks/cpu_avx512_clx.c\n",
            "    /Users/munmun/opt/anaconda3/lib/python3.8/site-packages/numpy/distutils/checks/cpu_avx512_cnl.c\n",
            "    /Users/munmun/opt/anaconda3/lib/python3.8/site-packages/numpy/distutils/checks/cpu_avx512_icl.c\n",
            "    /Users/munmun/opt/anaconda3/lib/python3.8/site-packages/numpy/distutils/checks/cpu_avx512_knl.c\n",
            "    /Users/munmun/opt/anaconda3/lib/python3.8/site-packages/numpy/distutils/checks/cpu_avx512_knm.c\n",
            "    /Users/munmun/opt/anaconda3/lib/python3.8/site-packages/numpy/distutils/checks/cpu_avx512_skx.c\n",
            "    /Users/munmun/opt/anaconda3/lib/python3.8/site-packages/numpy/distutils/checks/cpu_avx512cd.c\n",
            "    /Users/munmun/opt/anaconda3/lib/python3.8/site-packages/numpy/distutils/checks/cpu_avx512f.c\n",
            "    /Users/munmun/opt/anaconda3/lib/python3.8/site-packages/numpy/distutils/checks/cpu_f16c.c\n",
            "    /Users/munmun/opt/anaconda3/lib/python3.8/site-packages/numpy/distutils/checks/cpu_fma3.c\n",
            "    /Users/munmun/opt/anaconda3/lib/python3.8/site-packages/numpy/distutils/checks/cpu_fma4.c\n",
            "    /Users/munmun/opt/anaconda3/lib/python3.8/site-packages/numpy/distutils/checks/cpu_neon.c\n",
            "    /Users/munmun/opt/anaconda3/lib/python3.8/site-packages/numpy/distutils/checks/cpu_neon_fp16.c\n",
            "    /Users/munmun/opt/anaconda3/lib/python3.8/site-packages/numpy/distutils/checks/cpu_neon_vfpv4.c\n",
            "    /Users/munmun/opt/anaconda3/lib/python3.8/site-packages/numpy/distutils/checks/cpu_popcnt.c\n",
            "    /Users/munmun/opt/anaconda3/lib/python3.8/site-packages/numpy/distutils/checks/cpu_sse.c\n",
            "    /Users/munmun/opt/anaconda3/lib/python3.8/site-packages/numpy/distutils/checks/cpu_sse2.c\n",
            "    /Users/munmun/opt/anaconda3/lib/python3.8/site-packages/numpy/distutils/checks/cpu_sse3.c\n",
            "    /Users/munmun/opt/anaconda3/lib/python3.8/site-packages/numpy/distutils/checks/cpu_sse41.c\n",
            "    /Users/munmun/opt/anaconda3/lib/python3.8/site-packages/numpy/distutils/checks/cpu_sse42.c\n",
            "    /Users/munmun/opt/anaconda3/lib/python3.8/site-packages/numpy/distutils/checks/cpu_ssse3.c\n",
            "    /Users/munmun/opt/anaconda3/lib/python3.8/site-packages/numpy/distutils/checks/cpu_vsx.c\n",
            "    /Users/munmun/opt/anaconda3/lib/python3.8/site-packages/numpy/distutils/checks/cpu_vsx2.c\n",
            "    /Users/munmun/opt/anaconda3/lib/python3.8/site-packages/numpy/distutils/checks/cpu_vsx3.c\n",
            "    /Users/munmun/opt/anaconda3/lib/python3.8/site-packages/numpy/distutils/checks/cpu_xop.c\n",
            "    /Users/munmun/opt/anaconda3/lib/python3.8/site-packages/numpy/distutils/checks/extra_avx512bw_mask.c\n",
            "    /Users/munmun/opt/anaconda3/lib/python3.8/site-packages/numpy/distutils/checks/extra_avx512dq_mask.c\n",
            "    /Users/munmun/opt/anaconda3/lib/python3.8/site-packages/numpy/distutils/checks/extra_avx512f_reduce.c\n",
            "    /Users/munmun/opt/anaconda3/lib/python3.8/site-packages/numpy/distutils/checks/test_flags.c\n",
            "    /Users/munmun/opt/anaconda3/lib/python3.8/site-packages/numpy/distutils/fcompiler/fujitsu.py\n",
            "    /Users/munmun/opt/anaconda3/lib/python3.8/site-packages/numpy/distutils/site.cfg\n",
            "    /Users/munmun/opt/anaconda3/lib/python3.8/site-packages/numpy/distutils/tests/test_build_ext.py\n",
            "    /Users/munmun/opt/anaconda3/lib/python3.8/site-packages/numpy/distutils/tests/test_ccompiler_opt.py\n",
            "    /Users/munmun/opt/anaconda3/lib/python3.8/site-packages/numpy/distutils/tests/test_ccompiler_opt_conf.py\n",
            "    /Users/munmun/opt/anaconda3/lib/python3.8/site-packages/numpy/emath.pyi\n",
            "    /Users/munmun/opt/anaconda3/lib/python3.8/site-packages/numpy/f2py/__init__.pyi\n",
            "    /Users/munmun/opt/anaconda3/lib/python3.8/site-packages/numpy/f2py/tests/src/module_data/mod.mod\n",
            "    /Users/munmun/opt/anaconda3/lib/python3.8/site-packages/numpy/f2py/tests/src/module_data/module_data_docstring.f90\n",
            "    /Users/munmun/opt/anaconda3/lib/python3.8/site-packages/numpy/f2py/tests/test_module_doc.py\n",
            "    /Users/munmun/opt/anaconda3/lib/python3.8/site-packages/numpy/fft/__init__.pyi\n",
            "    /Users/munmun/opt/anaconda3/lib/python3.8/site-packages/numpy/lib/__init__.pyi\n",
            "    /Users/munmun/opt/anaconda3/lib/python3.8/site-packages/numpy/lib/tests/test_financial_expired.py\n",
            "    /Users/munmun/opt/anaconda3/lib/python3.8/site-packages/numpy/linalg/__init__.pyi\n",
            "    /Users/munmun/opt/anaconda3/lib/python3.8/site-packages/numpy/ma/__init__.pyi\n",
            "    /Users/munmun/opt/anaconda3/lib/python3.8/site-packages/numpy/matrixlib/__init__.pyi\n",
            "    /Users/munmun/opt/anaconda3/lib/python3.8/site-packages/numpy/polynomial/__init__.pyi\n",
            "    /Users/munmun/opt/anaconda3/lib/python3.8/site-packages/numpy/py.typed\n",
            "    /Users/munmun/opt/anaconda3/lib/python3.8/site-packages/numpy/random/__init__.pyi\n",
            "    /Users/munmun/opt/anaconda3/lib/python3.8/site-packages/numpy/rec.pyi\n",
            "    /Users/munmun/opt/anaconda3/lib/python3.8/site-packages/numpy/testing/__init__.pyi\n",
            "    /Users/munmun/opt/anaconda3/lib/python3.8/site-packages/numpy/typing/__init__.py\n",
            "    /Users/munmun/opt/anaconda3/lib/python3.8/site-packages/numpy/typing/_add_docstring.py\n",
            "    /Users/munmun/opt/anaconda3/lib/python3.8/site-packages/numpy/typing/_array_like.py\n",
            "    /Users/munmun/opt/anaconda3/lib/python3.8/site-packages/numpy/typing/_callable.py\n",
            "    /Users/munmun/opt/anaconda3/lib/python3.8/site-packages/numpy/typing/_dtype_like.py\n",
            "    /Users/munmun/opt/anaconda3/lib/python3.8/site-packages/numpy/typing/_scalars.py\n",
            "    /Users/munmun/opt/anaconda3/lib/python3.8/site-packages/numpy/typing/_shape.py\n",
            "    /Users/munmun/opt/anaconda3/lib/python3.8/site-packages/numpy/typing/setup.py\n",
            "    /Users/munmun/opt/anaconda3/lib/python3.8/site-packages/numpy/typing/tests/__init__.py\n",
            "    /Users/munmun/opt/anaconda3/lib/python3.8/site-packages/numpy/typing/tests/data/fail/arithmetic.py\n",
            "    /Users/munmun/opt/anaconda3/lib/python3.8/site-packages/numpy/typing/tests/data/fail/array_constructors.py\n",
            "    /Users/munmun/opt/anaconda3/lib/python3.8/site-packages/numpy/typing/tests/data/fail/array_like.py\n",
            "    /Users/munmun/opt/anaconda3/lib/python3.8/site-packages/numpy/typing/tests/data/fail/bitwise_ops.py\n",
            "    /Users/munmun/opt/anaconda3/lib/python3.8/site-packages/numpy/typing/tests/data/fail/constants.py\n",
            "    /Users/munmun/opt/anaconda3/lib/python3.8/site-packages/numpy/typing/tests/data/fail/dtype.py\n",
            "    /Users/munmun/opt/anaconda3/lib/python3.8/site-packages/numpy/typing/tests/data/fail/flatiter.py\n",
            "    /Users/munmun/opt/anaconda3/lib/python3.8/site-packages/numpy/typing/tests/data/fail/fromnumeric.py\n",
            "    /Users/munmun/opt/anaconda3/lib/python3.8/site-packages/numpy/typing/tests/data/fail/modules.py\n",
            "    /Users/munmun/opt/anaconda3/lib/python3.8/site-packages/numpy/typing/tests/data/fail/ndarray.py\n",
            "    /Users/munmun/opt/anaconda3/lib/python3.8/site-packages/numpy/typing/tests/data/fail/ndarray_misc.py\n",
            "    /Users/munmun/opt/anaconda3/lib/python3.8/site-packages/numpy/typing/tests/data/fail/numerictypes.py\n",
            "    /Users/munmun/opt/anaconda3/lib/python3.8/site-packages/numpy/typing/tests/data/fail/scalars.py\n",
            "    /Users/munmun/opt/anaconda3/lib/python3.8/site-packages/numpy/typing/tests/data/fail/ufunc_config.py\n",
            "    /Users/munmun/opt/anaconda3/lib/python3.8/site-packages/numpy/typing/tests/data/fail/ufuncs.py\n",
            "    /Users/munmun/opt/anaconda3/lib/python3.8/site-packages/numpy/typing/tests/data/fail/warnings_and_errors.py\n",
            "    /Users/munmun/opt/anaconda3/lib/python3.8/site-packages/numpy/typing/tests/data/mypy.ini\n",
            "    /Users/munmun/opt/anaconda3/lib/python3.8/site-packages/numpy/typing/tests/data/pass/arithmetic.py\n",
            "    /Users/munmun/opt/anaconda3/lib/python3.8/site-packages/numpy/typing/tests/data/pass/array_constructors.py\n",
            "    /Users/munmun/opt/anaconda3/lib/python3.8/site-packages/numpy/typing/tests/data/pass/array_like.py\n",
            "    /Users/munmun/opt/anaconda3/lib/python3.8/site-packages/numpy/typing/tests/data/pass/bitwise_ops.py\n",
            "    /Users/munmun/opt/anaconda3/lib/python3.8/site-packages/numpy/typing/tests/data/pass/dtype.py\n",
            "    /Users/munmun/opt/anaconda3/lib/python3.8/site-packages/numpy/typing/tests/data/pass/flatiter.py\n",
            "    /Users/munmun/opt/anaconda3/lib/python3.8/site-packages/numpy/typing/tests/data/pass/fromnumeric.py\n",
            "    /Users/munmun/opt/anaconda3/lib/python3.8/site-packages/numpy/typing/tests/data/pass/literal.py\n",
            "    /Users/munmun/opt/anaconda3/lib/python3.8/site-packages/numpy/typing/tests/data/pass/mod.py\n",
            "    /Users/munmun/opt/anaconda3/lib/python3.8/site-packages/numpy/typing/tests/data/pass/modules.py\n",
            "    /Users/munmun/opt/anaconda3/lib/python3.8/site-packages/numpy/typing/tests/data/pass/ndarray_conversion.py\n",
            "    /Users/munmun/opt/anaconda3/lib/python3.8/site-packages/numpy/typing/tests/data/pass/ndarray_misc.py\n",
            "    /Users/munmun/opt/anaconda3/lib/python3.8/site-packages/numpy/typing/tests/data/pass/ndarray_shape_manipulation.py\n",
            "    /Users/munmun/opt/anaconda3/lib/python3.8/site-packages/numpy/typing/tests/data/pass/numeric.py\n",
            "    /Users/munmun/opt/anaconda3/lib/python3.8/site-packages/numpy/typing/tests/data/pass/numerictypes.py\n",
            "    /Users/munmun/opt/anaconda3/lib/python3.8/site-packages/numpy/typing/tests/data/pass/scalars.py\n",
            "    /Users/munmun/opt/anaconda3/lib/python3.8/site-packages/numpy/typing/tests/data/pass/simple.py\n",
            "    /Users/munmun/opt/anaconda3/lib/python3.8/site-packages/numpy/typing/tests/data/pass/simple_py3.py\n",
            "    /Users/munmun/opt/anaconda3/lib/python3.8/site-packages/numpy/typing/tests/data/pass/ufunc_config.py\n",
            "    /Users/munmun/opt/anaconda3/lib/python3.8/site-packages/numpy/typing/tests/data/pass/ufuncs.py\n",
            "    /Users/munmun/opt/anaconda3/lib/python3.8/site-packages/numpy/typing/tests/data/pass/warnings_and_errors.py\n",
            "    /Users/munmun/opt/anaconda3/lib/python3.8/site-packages/numpy/typing/tests/data/reveal/arithmetic.py\n",
            "    /Users/munmun/opt/anaconda3/lib/python3.8/site-packages/numpy/typing/tests/data/reveal/array_constructors.py\n",
            "    /Users/munmun/opt/anaconda3/lib/python3.8/site-packages/numpy/typing/tests/data/reveal/bitwise_ops.py\n",
            "    /Users/munmun/opt/anaconda3/lib/python3.8/site-packages/numpy/typing/tests/data/reveal/constants.py\n",
            "    /Users/munmun/opt/anaconda3/lib/python3.8/site-packages/numpy/typing/tests/data/reveal/dtype.py\n",
            "    /Users/munmun/opt/anaconda3/lib/python3.8/site-packages/numpy/typing/tests/data/reveal/flatiter.py\n",
            "    /Users/munmun/opt/anaconda3/lib/python3.8/site-packages/numpy/typing/tests/data/reveal/fromnumeric.py\n",
            "    /Users/munmun/opt/anaconda3/lib/python3.8/site-packages/numpy/typing/tests/data/reveal/mod.py\n",
            "    /Users/munmun/opt/anaconda3/lib/python3.8/site-packages/numpy/typing/tests/data/reveal/modules.py\n",
            "    /Users/munmun/opt/anaconda3/lib/python3.8/site-packages/numpy/typing/tests/data/reveal/nbit_base_example.py\n",
            "    /Users/munmun/opt/anaconda3/lib/python3.8/site-packages/numpy/typing/tests/data/reveal/ndarray_conversion.py\n",
            "    /Users/munmun/opt/anaconda3/lib/python3.8/site-packages/numpy/typing/tests/data/reveal/ndarray_misc.py\n",
            "    /Users/munmun/opt/anaconda3/lib/python3.8/site-packages/numpy/typing/tests/data/reveal/ndarray_shape_manipulation.py\n",
            "    /Users/munmun/opt/anaconda3/lib/python3.8/site-packages/numpy/typing/tests/data/reveal/numeric.py\n",
            "    /Users/munmun/opt/anaconda3/lib/python3.8/site-packages/numpy/typing/tests/data/reveal/numerictypes.py\n",
            "    /Users/munmun/opt/anaconda3/lib/python3.8/site-packages/numpy/typing/tests/data/reveal/scalars.py\n",
            "    /Users/munmun/opt/anaconda3/lib/python3.8/site-packages/numpy/typing/tests/data/reveal/ufunc_config.py\n",
            "    /Users/munmun/opt/anaconda3/lib/python3.8/site-packages/numpy/typing/tests/data/reveal/warnings_and_errors.py\n",
            "    /Users/munmun/opt/anaconda3/lib/python3.8/site-packages/numpy/typing/tests/test_isfile.py\n",
            "    /Users/munmun/opt/anaconda3/lib/python3.8/site-packages/numpy/typing/tests/test_typing.py\n",
            "Proceed (Y/n)? ^C\n",
            "\u001b[31mERROR: Operation cancelled by user\u001b[0m\u001b[31m\n",
            "\u001b[0mRequirement already satisfied: numpy in /Users/munmun/opt/anaconda3/lib/python3.8/site-packages (1.19.5)\n",
            "\n",
            "\u001b[1m[\u001b[0m\u001b[34;49mnotice\u001b[0m\u001b[1;39;49m]\u001b[0m\u001b[39;49m A new release of pip is available: \u001b[0m\u001b[31;49m22.0.3\u001b[0m\u001b[39;49m -> \u001b[0m\u001b[32;49m24.0\u001b[0m\n",
            "\u001b[1m[\u001b[0m\u001b[34;49mnotice\u001b[0m\u001b[1;39;49m]\u001b[0m\u001b[39;49m To update, run: \u001b[0m\u001b[32;49mpip install --upgrade pip\u001b[0m\n"
          ]
        }
      ],
      "source": [
        "!pip uninstall numpy\n",
        "!pip install numpy"
      ]
    },
    {
      "cell_type": "code",
      "execution_count": 1,
      "metadata": {
        "id": "_aNWItwlVXDE"
      },
      "outputs": [
        {
          "name": "stderr",
          "output_type": "stream",
          "text": [
            "/Users/munmun/opt/anaconda3/lib/python3.8/site-packages/numpy/__init__.py:143: UserWarning: mkl-service package failed to import, therefore Intel(R) MKL initialization ensuring its correct out-of-the box operation under condition when Gnu OpenMP had already been loaded by Python process is not assured. Please install mkl-service package, see http://github.com/IntelPython/mkl-service\n",
            "  from . import _distributor_init\n"
          ]
        },
        {
          "ename": "ImportError",
          "evalue": "Unable to import required dependencies:\nnumpy: \n\nIMPORTANT: PLEASE READ THIS FOR ADVICE ON HOW TO SOLVE THIS ISSUE!\n\nImporting the numpy C-extensions failed. This error can happen for\nmany reasons, often due to issues with your setup or how NumPy was\ninstalled.\n\nWe have compiled some common reasons and troubleshooting tips at:\n\n    https://numpy.org/devdocs/user/troubleshooting-importerror.html\n\nPlease note and check the following:\n\n  * The Python version is: Python3.8 from \"/Users/munmun/opt/anaconda3/bin/python\"\n  * The NumPy version is: \"1.20.1\"\n\nand make sure that they are the versions you expect.\nPlease carefully study the documentation linked above for further help.\n\nOriginal error was: dlopen(/Users/munmun/opt/anaconda3/lib/python3.8/site-packages/numpy/core/_multiarray_umath.cpython-38-darwin.so, 0x0002): tried: '/Users/munmun/opt/anaconda3/lib/python3.8/site-packages/numpy/core/_multiarray_umath.cpython-38-darwin.so' (mach-o file, but is an incompatible architecture (have 'x86_64', need 'arm64')), '/System/Volumes/Preboot/Cryptexes/OS/Users/munmun/opt/anaconda3/lib/python3.8/site-packages/numpy/core/_multiarray_umath.cpython-38-darwin.so' (no such file), '/Users/munmun/opt/anaconda3/lib/python3.8/site-packages/numpy/core/_multiarray_umath.cpython-38-darwin.so' (mach-o file, but is an incompatible architecture (have 'x86_64', need 'arm64'))\n",
          "output_type": "error",
          "traceback": [
            "\u001b[0;31m---------------------------------------------------------------------------\u001b[0m",
            "\u001b[0;31mImportError\u001b[0m                               Traceback (most recent call last)",
            "Cell \u001b[0;32mIn[1], line 1\u001b[0m\n\u001b[0;32m----> 1\u001b[0m \u001b[38;5;28;01mimport\u001b[39;00m \u001b[38;5;21;01mpandas\u001b[39;00m \u001b[38;5;28;01mas\u001b[39;00m \u001b[38;5;21;01mpd\u001b[39;00m\n\u001b[1;32m      2\u001b[0m \u001b[38;5;28;01mimport\u001b[39;00m \u001b[38;5;21;01mnumpy\u001b[39;00m \u001b[38;5;28;01mas\u001b[39;00m \u001b[38;5;21;01mnp\u001b[39;00m\n\u001b[1;32m      3\u001b[0m \u001b[38;5;28;01mfrom\u001b[39;00m \u001b[38;5;21;01mtqdm\u001b[39;00m\u001b[38;5;21;01m.\u001b[39;00m\u001b[38;5;21;01mauto\u001b[39;00m \u001b[38;5;28;01mimport\u001b[39;00m tqdm\n",
            "File \u001b[0;32m~/opt/anaconda3/lib/python3.8/site-packages/pandas/__init__.py:16\u001b[0m\n\u001b[1;32m     13\u001b[0m         missing_dependencies\u001b[38;5;241m.\u001b[39mappend(\u001b[38;5;124mf\u001b[39m\u001b[38;5;124m\"\u001b[39m\u001b[38;5;132;01m{\u001b[39;00mdependency\u001b[38;5;132;01m}\u001b[39;00m\u001b[38;5;124m: \u001b[39m\u001b[38;5;132;01m{\u001b[39;00me\u001b[38;5;132;01m}\u001b[39;00m\u001b[38;5;124m\"\u001b[39m)\n\u001b[1;32m     15\u001b[0m \u001b[38;5;28;01mif\u001b[39;00m missing_dependencies:\n\u001b[0;32m---> 16\u001b[0m     \u001b[38;5;28;01mraise\u001b[39;00m \u001b[38;5;167;01mImportError\u001b[39;00m(\n\u001b[1;32m     17\u001b[0m         \u001b[38;5;124m\"\u001b[39m\u001b[38;5;124mUnable to import required dependencies:\u001b[39m\u001b[38;5;130;01m\\n\u001b[39;00m\u001b[38;5;124m\"\u001b[39m \u001b[38;5;241m+\u001b[39m \u001b[38;5;124m\"\u001b[39m\u001b[38;5;130;01m\\n\u001b[39;00m\u001b[38;5;124m\"\u001b[39m\u001b[38;5;241m.\u001b[39mjoin(missing_dependencies)\n\u001b[1;32m     18\u001b[0m     )\n\u001b[1;32m     19\u001b[0m \u001b[38;5;28;01mdel\u001b[39;00m hard_dependencies, dependency, missing_dependencies\n\u001b[1;32m     21\u001b[0m \u001b[38;5;66;03m# numpy compat\u001b[39;00m\n",
            "\u001b[0;31mImportError\u001b[0m: Unable to import required dependencies:\nnumpy: \n\nIMPORTANT: PLEASE READ THIS FOR ADVICE ON HOW TO SOLVE THIS ISSUE!\n\nImporting the numpy C-extensions failed. This error can happen for\nmany reasons, often due to issues with your setup or how NumPy was\ninstalled.\n\nWe have compiled some common reasons and troubleshooting tips at:\n\n    https://numpy.org/devdocs/user/troubleshooting-importerror.html\n\nPlease note and check the following:\n\n  * The Python version is: Python3.8 from \"/Users/munmun/opt/anaconda3/bin/python\"\n  * The NumPy version is: \"1.20.1\"\n\nand make sure that they are the versions you expect.\nPlease carefully study the documentation linked above for further help.\n\nOriginal error was: dlopen(/Users/munmun/opt/anaconda3/lib/python3.8/site-packages/numpy/core/_multiarray_umath.cpython-38-darwin.so, 0x0002): tried: '/Users/munmun/opt/anaconda3/lib/python3.8/site-packages/numpy/core/_multiarray_umath.cpython-38-darwin.so' (mach-o file, but is an incompatible architecture (have 'x86_64', need 'arm64')), '/System/Volumes/Preboot/Cryptexes/OS/Users/munmun/opt/anaconda3/lib/python3.8/site-packages/numpy/core/_multiarray_umath.cpython-38-darwin.so' (no such file), '/Users/munmun/opt/anaconda3/lib/python3.8/site-packages/numpy/core/_multiarray_umath.cpython-38-darwin.so' (mach-o file, but is an incompatible architecture (have 'x86_64', need 'arm64'))\n"
          ]
        }
      ],
      "source": [
        "import pandas as pd\n",
        "import numpy as np\n",
        "from tqdm.auto import tqdm\n",
        "import tensorflow as tf\n",
        "from transformers import BertTokenizer"
      ]
    },
    {
      "cell_type": "code",
      "execution_count": null,
      "metadata": {
        "colab": {
          "base_uri": "https://localhost:8080/",
          "height": 206
        },
        "id": "eloT4U-RVajA",
        "outputId": "7e4c83ba-d946-46c4-fa87-8758d2efec47"
      },
      "outputs": [
        {
          "data": {
            "application/vnd.google.colaboratory.intrinsic+json": {
              "summary": "{\n  \"name\": \"df\",\n  \"rows\": 838,\n  \"fields\": [\n    {\n      \"column\": \"Unnamed: 0\",\n      \"properties\": {\n        \"dtype\": \"number\",\n        \"std\": 242,\n        \"min\": 0,\n        \"max\": 837,\n        \"num_unique_values\": 838,\n        \"samples\": [\n          210,\n          824,\n          78\n        ],\n        \"semantic_type\": \"\",\n        \"description\": \"\"\n      }\n    },\n    {\n      \"column\": \"prompt\",\n      \"properties\": {\n        \"dtype\": \"string\",\n        \"num_unique_values\": 793,\n        \"samples\": [\n          \"Any clue on the population accounted for?\",\n          \"Have you acquainted yourself with everyone within reach?\",\n          \"Any reports on Ayla's presence close by?\"\n        ],\n        \"semantic_type\": \"\",\n        \"description\": \"\"\n      }\n    },\n    {\n      \"column\": \"model\",\n      \"properties\": {\n        \"dtype\": \"number\",\n        \"std\": 1,\n        \"min\": 0,\n        \"max\": 3,\n        \"num_unique_values\": 4,\n        \"samples\": [\n          0,\n          1,\n          2\n        ],\n        \"semantic_type\": \"\",\n        \"description\": \"\"\n      }\n    }\n  ]\n}",
              "type": "dataframe",
              "variable_name": "df"
            },
            "text/html": [
              "\n",
              "  <div id=\"df-10977972-00bf-4856-a6f2-c118d6726a52\" class=\"colab-df-container\">\n",
              "    <div>\n",
              "<style scoped>\n",
              "    .dataframe tbody tr th:only-of-type {\n",
              "        vertical-align: middle;\n",
              "    }\n",
              "\n",
              "    .dataframe tbody tr th {\n",
              "        vertical-align: top;\n",
              "    }\n",
              "\n",
              "    .dataframe thead th {\n",
              "        text-align: right;\n",
              "    }\n",
              "</style>\n",
              "<table border=\"1\" class=\"dataframe\">\n",
              "  <thead>\n",
              "    <tr style=\"text-align: right;\">\n",
              "      <th></th>\n",
              "      <th>Unnamed: 0</th>\n",
              "      <th>prompt</th>\n",
              "      <th>model</th>\n",
              "    </tr>\n",
              "  </thead>\n",
              "  <tbody>\n",
              "    <tr>\n",
              "      <th>0</th>\n",
              "      <td>0</td>\n",
              "      <td>Counted the individuals present?</td>\n",
              "      <td>2</td>\n",
              "    </tr>\n",
              "    <tr>\n",
              "      <th>1</th>\n",
              "      <td>1</td>\n",
              "      <td>Who's close by, ready to jump into the discuss...</td>\n",
              "      <td>0</td>\n",
              "    </tr>\n",
              "    <tr>\n",
              "      <th>2</th>\n",
              "      <td>2</td>\n",
              "      <td>Can you spot anyone you haven't met?</td>\n",
              "      <td>3</td>\n",
              "    </tr>\n",
              "    <tr>\n",
              "      <th>3</th>\n",
              "      <td>3</td>\n",
              "      <td>Any sightings of Eliana in sight?</td>\n",
              "      <td>1</td>\n",
              "    </tr>\n",
              "    <tr>\n",
              "      <th>4</th>\n",
              "      <td>4</td>\n",
              "      <td>Are there any unfamiliar faces in sight?</td>\n",
              "      <td>3</td>\n",
              "    </tr>\n",
              "  </tbody>\n",
              "</table>\n",
              "</div>\n",
              "    <div class=\"colab-df-buttons\">\n",
              "\n",
              "  <div class=\"colab-df-container\">\n",
              "    <button class=\"colab-df-convert\" onclick=\"convertToInteractive('df-10977972-00bf-4856-a6f2-c118d6726a52')\"\n",
              "            title=\"Convert this dataframe to an interactive table.\"\n",
              "            style=\"display:none;\">\n",
              "\n",
              "  <svg xmlns=\"http://www.w3.org/2000/svg\" height=\"24px\" viewBox=\"0 -960 960 960\">\n",
              "    <path d=\"M120-120v-720h720v720H120Zm60-500h600v-160H180v160Zm220 220h160v-160H400v160Zm0 220h160v-160H400v160ZM180-400h160v-160H180v160Zm440 0h160v-160H620v160ZM180-180h160v-160H180v160Zm440 0h160v-160H620v160Z\"/>\n",
              "  </svg>\n",
              "    </button>\n",
              "\n",
              "  <style>\n",
              "    .colab-df-container {\n",
              "      display:flex;\n",
              "      gap: 12px;\n",
              "    }\n",
              "\n",
              "    .colab-df-convert {\n",
              "      background-color: #E8F0FE;\n",
              "      border: none;\n",
              "      border-radius: 50%;\n",
              "      cursor: pointer;\n",
              "      display: none;\n",
              "      fill: #1967D2;\n",
              "      height: 32px;\n",
              "      padding: 0 0 0 0;\n",
              "      width: 32px;\n",
              "    }\n",
              "\n",
              "    .colab-df-convert:hover {\n",
              "      background-color: #E2EBFA;\n",
              "      box-shadow: 0px 1px 2px rgba(60, 64, 67, 0.3), 0px 1px 3px 1px rgba(60, 64, 67, 0.15);\n",
              "      fill: #174EA6;\n",
              "    }\n",
              "\n",
              "    .colab-df-buttons div {\n",
              "      margin-bottom: 4px;\n",
              "    }\n",
              "\n",
              "    [theme=dark] .colab-df-convert {\n",
              "      background-color: #3B4455;\n",
              "      fill: #D2E3FC;\n",
              "    }\n",
              "\n",
              "    [theme=dark] .colab-df-convert:hover {\n",
              "      background-color: #434B5C;\n",
              "      box-shadow: 0px 1px 3px 1px rgba(0, 0, 0, 0.15);\n",
              "      filter: drop-shadow(0px 1px 2px rgba(0, 0, 0, 0.3));\n",
              "      fill: #FFFFFF;\n",
              "    }\n",
              "  </style>\n",
              "\n",
              "    <script>\n",
              "      const buttonEl =\n",
              "        document.querySelector('#df-10977972-00bf-4856-a6f2-c118d6726a52 button.colab-df-convert');\n",
              "      buttonEl.style.display =\n",
              "        google.colab.kernel.accessAllowed ? 'block' : 'none';\n",
              "\n",
              "      async function convertToInteractive(key) {\n",
              "        const element = document.querySelector('#df-10977972-00bf-4856-a6f2-c118d6726a52');\n",
              "        const dataTable =\n",
              "          await google.colab.kernel.invokeFunction('convertToInteractive',\n",
              "                                                    [key], {});\n",
              "        if (!dataTable) return;\n",
              "\n",
              "        const docLinkHtml = 'Like what you see? Visit the ' +\n",
              "          '<a target=\"_blank\" href=https://colab.research.google.com/notebooks/data_table.ipynb>data table notebook</a>'\n",
              "          + ' to learn more about interactive tables.';\n",
              "        element.innerHTML = '';\n",
              "        dataTable['output_type'] = 'display_data';\n",
              "        await google.colab.output.renderOutput(dataTable, element);\n",
              "        const docLink = document.createElement('div');\n",
              "        docLink.innerHTML = docLinkHtml;\n",
              "        element.appendChild(docLink);\n",
              "      }\n",
              "    </script>\n",
              "  </div>\n",
              "\n",
              "\n",
              "<div id=\"df-9ba4d38f-ff34-4804-a2fb-6b21be59c1de\">\n",
              "  <button class=\"colab-df-quickchart\" onclick=\"quickchart('df-9ba4d38f-ff34-4804-a2fb-6b21be59c1de')\"\n",
              "            title=\"Suggest charts\"\n",
              "            style=\"display:none;\">\n",
              "\n",
              "<svg xmlns=\"http://www.w3.org/2000/svg\" height=\"24px\"viewBox=\"0 0 24 24\"\n",
              "     width=\"24px\">\n",
              "    <g>\n",
              "        <path d=\"M19 3H5c-1.1 0-2 .9-2 2v14c0 1.1.9 2 2 2h14c1.1 0 2-.9 2-2V5c0-1.1-.9-2-2-2zM9 17H7v-7h2v7zm4 0h-2V7h2v10zm4 0h-2v-4h2v4z\"/>\n",
              "    </g>\n",
              "</svg>\n",
              "  </button>\n",
              "\n",
              "<style>\n",
              "  .colab-df-quickchart {\n",
              "      --bg-color: #E8F0FE;\n",
              "      --fill-color: #1967D2;\n",
              "      --hover-bg-color: #E2EBFA;\n",
              "      --hover-fill-color: #174EA6;\n",
              "      --disabled-fill-color: #AAA;\n",
              "      --disabled-bg-color: #DDD;\n",
              "  }\n",
              "\n",
              "  [theme=dark] .colab-df-quickchart {\n",
              "      --bg-color: #3B4455;\n",
              "      --fill-color: #D2E3FC;\n",
              "      --hover-bg-color: #434B5C;\n",
              "      --hover-fill-color: #FFFFFF;\n",
              "      --disabled-bg-color: #3B4455;\n",
              "      --disabled-fill-color: #666;\n",
              "  }\n",
              "\n",
              "  .colab-df-quickchart {\n",
              "    background-color: var(--bg-color);\n",
              "    border: none;\n",
              "    border-radius: 50%;\n",
              "    cursor: pointer;\n",
              "    display: none;\n",
              "    fill: var(--fill-color);\n",
              "    height: 32px;\n",
              "    padding: 0;\n",
              "    width: 32px;\n",
              "  }\n",
              "\n",
              "  .colab-df-quickchart:hover {\n",
              "    background-color: var(--hover-bg-color);\n",
              "    box-shadow: 0 1px 2px rgba(60, 64, 67, 0.3), 0 1px 3px 1px rgba(60, 64, 67, 0.15);\n",
              "    fill: var(--button-hover-fill-color);\n",
              "  }\n",
              "\n",
              "  .colab-df-quickchart-complete:disabled,\n",
              "  .colab-df-quickchart-complete:disabled:hover {\n",
              "    background-color: var(--disabled-bg-color);\n",
              "    fill: var(--disabled-fill-color);\n",
              "    box-shadow: none;\n",
              "  }\n",
              "\n",
              "  .colab-df-spinner {\n",
              "    border: 2px solid var(--fill-color);\n",
              "    border-color: transparent;\n",
              "    border-bottom-color: var(--fill-color);\n",
              "    animation:\n",
              "      spin 1s steps(1) infinite;\n",
              "  }\n",
              "\n",
              "  @keyframes spin {\n",
              "    0% {\n",
              "      border-color: transparent;\n",
              "      border-bottom-color: var(--fill-color);\n",
              "      border-left-color: var(--fill-color);\n",
              "    }\n",
              "    20% {\n",
              "      border-color: transparent;\n",
              "      border-left-color: var(--fill-color);\n",
              "      border-top-color: var(--fill-color);\n",
              "    }\n",
              "    30% {\n",
              "      border-color: transparent;\n",
              "      border-left-color: var(--fill-color);\n",
              "      border-top-color: var(--fill-color);\n",
              "      border-right-color: var(--fill-color);\n",
              "    }\n",
              "    40% {\n",
              "      border-color: transparent;\n",
              "      border-right-color: var(--fill-color);\n",
              "      border-top-color: var(--fill-color);\n",
              "    }\n",
              "    60% {\n",
              "      border-color: transparent;\n",
              "      border-right-color: var(--fill-color);\n",
              "    }\n",
              "    80% {\n",
              "      border-color: transparent;\n",
              "      border-right-color: var(--fill-color);\n",
              "      border-bottom-color: var(--fill-color);\n",
              "    }\n",
              "    90% {\n",
              "      border-color: transparent;\n",
              "      border-bottom-color: var(--fill-color);\n",
              "    }\n",
              "  }\n",
              "</style>\n",
              "\n",
              "  <script>\n",
              "    async function quickchart(key) {\n",
              "      const quickchartButtonEl =\n",
              "        document.querySelector('#' + key + ' button');\n",
              "      quickchartButtonEl.disabled = true;  // To prevent multiple clicks.\n",
              "      quickchartButtonEl.classList.add('colab-df-spinner');\n",
              "      try {\n",
              "        const charts = await google.colab.kernel.invokeFunction(\n",
              "            'suggestCharts', [key], {});\n",
              "      } catch (error) {\n",
              "        console.error('Error during call to suggestCharts:', error);\n",
              "      }\n",
              "      quickchartButtonEl.classList.remove('colab-df-spinner');\n",
              "      quickchartButtonEl.classList.add('colab-df-quickchart-complete');\n",
              "    }\n",
              "    (() => {\n",
              "      let quickchartButtonEl =\n",
              "        document.querySelector('#df-9ba4d38f-ff34-4804-a2fb-6b21be59c1de button');\n",
              "      quickchartButtonEl.style.display =\n",
              "        google.colab.kernel.accessAllowed ? 'block' : 'none';\n",
              "    })();\n",
              "  </script>\n",
              "</div>\n",
              "    </div>\n",
              "  </div>\n"
            ],
            "text/plain": [
              "   Unnamed: 0                                             prompt  model\n",
              "0           0                   Counted the individuals present?      2\n",
              "1           1  Who's close by, ready to jump into the discuss...      0\n",
              "2           2               Can you spot anyone you haven't met?      3\n",
              "3           3                  Any sightings of Eliana in sight?      1\n",
              "4           4           Are there any unfamiliar faces in sight?      3"
            ]
          },
          "execution_count": 3,
          "metadata": {},
          "output_type": "execute_result"
        }
      ],
      "source": [
        "df = pd.read_csv('data.csv')\n",
        "df.head()"
      ]
    },
    {
      "cell_type": "code",
      "execution_count": null,
      "metadata": {
        "colab": {
          "base_uri": "https://localhost:8080/"
        },
        "id": "9k6HiZnVVaew",
        "outputId": "1c640fab-17d8-411e-9a8e-f8e52539d4a7"
      },
      "outputs": [
        {
          "name": "stdout",
          "output_type": "stream",
          "text": [
            "<class 'pandas.core.frame.DataFrame'>\n",
            "RangeIndex: 838 entries, 0 to 837\n",
            "Data columns (total 3 columns):\n",
            " #   Column      Non-Null Count  Dtype \n",
            "---  ------      --------------  ----- \n",
            " 0   Unnamed: 0  838 non-null    int64 \n",
            " 1   prompt      838 non-null    object\n",
            " 2   model       838 non-null    int64 \n",
            "dtypes: int64(2), object(1)\n",
            "memory usage: 19.8+ KB\n"
          ]
        }
      ],
      "source": [
        "df.info()"
      ]
    },
    {
      "cell_type": "markdown",
      "metadata": {
        "id": "o5KlWWtynZib"
      },
      "source": [
        "### **Data Preparation**"
      ]
    },
    {
      "cell_type": "code",
      "execution_count": null,
      "metadata": {
        "id": "zhgqHIk5fR2W"
      },
      "outputs": [],
      "source": [
        "df['model'] = df['model'].astype(int)"
      ]
    },
    {
      "cell_type": "code",
      "execution_count": null,
      "metadata": {
        "colab": {
          "base_uri": "https://localhost:8080/",
          "height": 53
        },
        "id": "wHOG2bH4Z3wn",
        "outputId": "e14f7996-0165-49e4-93a4-7c6e9d606ca4"
      },
      "outputs": [
        {
          "data": {
            "application/vnd.google.colaboratory.intrinsic+json": {
              "type": "string"
            },
            "text/plain": [
              "'\\nThe model labels are:\\n\\n0 - Who is here?\\n1 - Is x here?\\n2 - How many people are here?\\n3 - Who here do I not know?\\n'"
            ]
          },
          "execution_count": 6,
          "metadata": {},
          "output_type": "execute_result"
        }
      ],
      "source": [
        "df['model'].value_counts()\n",
        "\n",
        "'''\n",
        "The model labels are:\n",
        "\n",
        "0 - Who is here?\n",
        "1 - Is x here?\n",
        "2 - How many people are here?\n",
        "3 - Who here do I not know?\n",
        "'''"
      ]
    },
    {
      "cell_type": "code",
      "execution_count": null,
      "metadata": {
        "colab": {
          "base_uri": "https://localhost:8080/"
        },
        "id": "ylfYwGnbVadm",
        "outputId": "c275dbfa-d917-4c16-bcd6-a2552b321a18"
      },
      "outputs": [
        {
          "name": "stderr",
          "output_type": "stream",
          "text": [
            "/usr/local/lib/python3.10/dist-packages/huggingface_hub/utils/_token.py:88: UserWarning: \n",
            "The secret `HF_TOKEN` does not exist in your Colab secrets.\n",
            "To authenticate with the Hugging Face Hub, create a token in your settings tab (https://huggingface.co/settings/tokens), set it as secret in your Google Colab and restart your session.\n",
            "You will be able to reuse this secret in all of your notebooks.\n",
            "Please note that authentication is recommended but still optional to access public models or datasets.\n",
            "  warnings.warn(\n"
          ]
        }
      ],
      "source": [
        "tokenizer = BertTokenizer.from_pretrained('bert-base-cased')"
      ]
    },
    {
      "cell_type": "code",
      "execution_count": null,
      "metadata": {
        "id": "TTjk0xrsVaaL"
      },
      "outputs": [],
      "source": [
        "token = tokenizer.encode_plus(\n",
        "    \"Hello There!\",\n",
        "    max_length=256,\n",
        "    truncation=True,\n",
        "    padding='max_length',\n",
        "    add_special_tokens=True,\n",
        "    return_tensors='tf'\n",
        ")"
      ]
    },
    {
      "cell_type": "code",
      "execution_count": null,
      "metadata": {
        "colab": {
          "base_uri": "https://localhost:8080/"
        },
        "id": "uBfqM1dwVaYp",
        "outputId": "a5965637-ee3e-4bcc-a698-f7e4d7e5ec49"
      },
      "outputs": [
        {
          "data": {
            "text/plain": [
              "<tf.Tensor: shape=(1, 256), dtype=int32, numpy=\n",
              "array([[ 101, 5704, 1174, 1103, 2833, 1675,  136,  102,    0,    0,    0,\n",
              "           0,    0,    0,    0,    0,    0,    0,    0,    0,    0,    0,\n",
              "           0,    0,    0,    0,    0,    0,    0,    0,    0,    0,    0,\n",
              "           0,    0,    0,    0,    0,    0,    0,    0,    0,    0,    0,\n",
              "           0,    0,    0,    0,    0,    0,    0,    0,    0,    0,    0,\n",
              "           0,    0,    0,    0,    0,    0,    0,    0,    0,    0,    0,\n",
              "           0,    0,    0,    0,    0,    0,    0,    0,    0,    0,    0,\n",
              "           0,    0,    0,    0,    0,    0,    0,    0,    0,    0,    0,\n",
              "           0,    0,    0,    0,    0,    0,    0,    0,    0,    0,    0,\n",
              "           0,    0,    0,    0,    0,    0,    0,    0,    0,    0,    0,\n",
              "           0,    0,    0,    0,    0,    0,    0,    0,    0,    0,    0,\n",
              "           0,    0,    0,    0,    0,    0,    0,    0,    0,    0,    0,\n",
              "           0,    0,    0,    0,    0,    0,    0,    0,    0,    0,    0,\n",
              "           0,    0,    0,    0,    0,    0,    0,    0,    0,    0,    0,\n",
              "           0,    0,    0,    0,    0,    0,    0,    0,    0,    0,    0,\n",
              "           0,    0,    0,    0,    0,    0,    0,    0,    0,    0,    0,\n",
              "           0,    0,    0,    0,    0,    0,    0,    0,    0,    0,    0,\n",
              "           0,    0,    0,    0,    0,    0,    0,    0,    0,    0,    0,\n",
              "           0,    0,    0,    0,    0,    0,    0,    0,    0,    0,    0,\n",
              "           0,    0,    0,    0,    0,    0,    0,    0,    0,    0,    0,\n",
              "           0,    0,    0,    0,    0,    0,    0,    0,    0,    0,    0,\n",
              "           0,    0,    0,    0,    0,    0,    0,    0,    0,    0,    0,\n",
              "           0,    0,    0,    0,    0,    0,    0,    0,    0,    0,    0,\n",
              "           0,    0,    0]], dtype=int32)>"
            ]
          },
          "execution_count": 9,
          "metadata": {},
          "output_type": "execute_result"
        }
      ],
      "source": [
        "token.input_ids"
      ]
    },
    {
      "cell_type": "code",
      "execution_count": null,
      "metadata": {
        "id": "vvtjdO39XaO2"
      },
      "outputs": [],
      "source": [
        "X_input_ids = np.zeros((len(df), 256))\n",
        "X_attn_masks = np.zeros((len(df), 256))"
      ]
    },
    {
      "cell_type": "code",
      "execution_count": null,
      "metadata": {
        "id": "JUnqCYPgXaMe"
      },
      "outputs": [],
      "source": [
        "def generate_training_data(df, ids, masks, tokenizer):\n",
        "    for i, text in tqdm(enumerate(df['prompt'])):\n",
        "        tokenized_text = tokenizer.encode_plus(\n",
        "            text,\n",
        "            max_length=256,\n",
        "            truncation=True,\n",
        "            padding='max_length',\n",
        "            add_special_tokens=True,\n",
        "            return_tensors='tf'\n",
        "        )\n",
        "        ids[i, :] = tokenized_text.input_ids\n",
        "        masks[i, :] = tokenized_text.attention_mask\n",
        "    return ids, masks"
      ]
    },
    {
      "cell_type": "code",
      "execution_count": null,
      "metadata": {
        "colab": {
          "base_uri": "https://localhost:8080/",
          "height": 49,
          "referenced_widgets": [
            "0a635d78ada04b5abe587ab00e5c2085",
            "fbbf8ed24b014e7daf8fb70b1e8fbc9d",
            "2f1b802a47fe4bc4b292c146f1ccdc26",
            "84390b51a7b94b3491fbcc7bbd9e7816",
            "bed90917b86948ec87555e68cc00a2b8",
            "809baaa79dc743dd83ca56497f161951",
            "c1219e71a8924b58aa30f849e1bc607e",
            "a9e0ef4a1995425d8bfc6a6b66f9d65c",
            "2847957a962047b4ae5f3a4b041f21b9",
            "ef6d7e9d96d140fd8d738127ead50dc8",
            "1664070c3c874e158d809926e04e7b03"
          ]
        },
        "id": "o6Xi-_ffXaJI",
        "outputId": "7ed29706-409b-4999-a65a-51d73d7a4cdc"
      },
      "outputs": [
        {
          "data": {
            "application/vnd.jupyter.widget-view+json": {
              "model_id": "0a635d78ada04b5abe587ab00e5c2085",
              "version_major": 2,
              "version_minor": 0
            },
            "text/plain": [
              "0it [00:00, ?it/s]"
            ]
          },
          "metadata": {},
          "output_type": "display_data"
        }
      ],
      "source": [
        "X_input_ids, X_attn_masks = generate_training_data(df, X_input_ids, X_attn_masks, tokenizer)"
      ]
    },
    {
      "cell_type": "code",
      "execution_count": null,
      "metadata": {
        "colab": {
          "base_uri": "https://localhost:8080/"
        },
        "id": "8t8YzDruXaHg",
        "outputId": "bdca97ef-faae-419a-f1fa-903bf4853af9"
      },
      "outputs": [
        {
          "data": {
            "text/plain": [
              "(838, 4)"
            ]
          },
          "execution_count": 32,
          "metadata": {},
          "output_type": "execute_result"
        }
      ],
      "source": [
        "labels = np.zeros((len(df), 4))\n",
        "labels.shape"
      ]
    },
    {
      "cell_type": "code",
      "execution_count": null,
      "metadata": {
        "id": "gdX7PQX2Zxff"
      },
      "outputs": [],
      "source": [
        "labels[np.arange(len(df)), df['model'].values] = 1 # one-hot encoded target tensor"
      ]
    },
    {
      "cell_type": "code",
      "execution_count": null,
      "metadata": {
        "colab": {
          "base_uri": "https://localhost:8080/"
        },
        "id": "HZ2bAJj4dUi-",
        "outputId": "bb9edc7d-17ff-4fc9-8137-4e6872488bb3"
      },
      "outputs": [
        {
          "data": {
            "text/plain": [
              "array([[0., 0., 1., 0.],\n",
              "       [1., 0., 0., 0.],\n",
              "       [0., 0., 0., 1.],\n",
              "       ...,\n",
              "       [0., 0., 1., 0.],\n",
              "       [0., 1., 0., 0.],\n",
              "       [0., 0., 0., 1.]])"
            ]
          },
          "execution_count": 34,
          "metadata": {},
          "output_type": "execute_result"
        }
      ],
      "source": [
        "labels"
      ]
    },
    {
      "cell_type": "code",
      "execution_count": null,
      "metadata": {
        "colab": {
          "base_uri": "https://localhost:8080/"
        },
        "id": "rC61prUQZxaG",
        "outputId": "53f101c6-5cf5-47a5-f904-2d339370ee87"
      },
      "outputs": [
        {
          "data": {
            "text/plain": [
              "<_TakeDataset element_spec=(TensorSpec(shape=(256,), dtype=tf.float64, name=None), TensorSpec(shape=(256,), dtype=tf.float64, name=None), TensorSpec(shape=(4,), dtype=tf.float64, name=None))>"
            ]
          },
          "execution_count": 35,
          "metadata": {},
          "output_type": "execute_result"
        }
      ],
      "source": [
        "# creating a data pipeline using tensorflow dataset utility, creates batches of data for easy loading...\n",
        "dataset = tf.data.Dataset.from_tensor_slices((X_input_ids, X_attn_masks, labels))\n",
        "dataset.take(1) # one sample data"
      ]
    },
    {
      "cell_type": "code",
      "execution_count": null,
      "metadata": {
        "id": "ZeyCO71yZxYY"
      },
      "outputs": [],
      "source": [
        "def SentimentDatasetMapFunction(input_ids, attn_masks, labels):\n",
        "    return {\n",
        "        'input_ids': input_ids,\n",
        "        'attention_mask': attn_masks\n",
        "    }, labels"
      ]
    },
    {
      "cell_type": "code",
      "execution_count": null,
      "metadata": {
        "id": "Xdp2isCEcrRM"
      },
      "outputs": [],
      "source": [
        "dataset = dataset.map(SentimentDatasetMapFunction) # converting to required format for tensorflow dataset"
      ]
    },
    {
      "cell_type": "code",
      "execution_count": null,
      "metadata": {
        "colab": {
          "base_uri": "https://localhost:8080/"
        },
        "id": "GTKHHoDTf_TN",
        "outputId": "19400f49-b9cc-4775-c2d1-2c25ac2ad43e"
      },
      "outputs": [
        {
          "data": {
            "text/plain": [
              "<_TakeDataset element_spec=({'input_ids': TensorSpec(shape=(256,), dtype=tf.float64, name=None), 'attention_mask': TensorSpec(shape=(256,), dtype=tf.float64, name=None)}, TensorSpec(shape=(4,), dtype=tf.float64, name=None))>"
            ]
          },
          "execution_count": 38,
          "metadata": {},
          "output_type": "execute_result"
        }
      ],
      "source": [
        "dataset.take(1)"
      ]
    },
    {
      "cell_type": "code",
      "execution_count": null,
      "metadata": {
        "id": "NEEMyvBSf_QY"
      },
      "outputs": [],
      "source": [
        "dataset = dataset.shuffle(10000).batch(16, drop_remainder=True) # batch size, drop any left out tensor"
      ]
    },
    {
      "cell_type": "code",
      "execution_count": null,
      "metadata": {
        "colab": {
          "base_uri": "https://localhost:8080/"
        },
        "id": "4qdDhISVf_Ny",
        "outputId": "2fb6f32a-4c8b-4cb3-9cb4-80a9b76180e0"
      },
      "outputs": [
        {
          "data": {
            "text/plain": [
              "<_TakeDataset element_spec=({'input_ids': TensorSpec(shape=(16, 256), dtype=tf.float64, name=None), 'attention_mask': TensorSpec(shape=(16, 256), dtype=tf.float64, name=None)}, TensorSpec(shape=(16, 4), dtype=tf.float64, name=None))>"
            ]
          },
          "execution_count": 40,
          "metadata": {},
          "output_type": "execute_result"
        }
      ],
      "source": [
        "dataset.take(1)"
      ]
    },
    {
      "cell_type": "code",
      "execution_count": null,
      "metadata": {
        "id": "ooYVMGf4f_L_"
      },
      "outputs": [],
      "source": [
        "p = 0.8\n",
        "train_size = int((len(df)//16)*p) # for each 16 batch of data we will have len(df)//16 samples, take 80% of that for train."
      ]
    },
    {
      "cell_type": "code",
      "execution_count": null,
      "metadata": {
        "colab": {
          "base_uri": "https://localhost:8080/"
        },
        "id": "H5kP15pVh1BB",
        "outputId": "76ea9e18-81bc-4953-8644-40e32ad2a370"
      },
      "outputs": [
        {
          "data": {
            "text/plain": [
              "41"
            ]
          },
          "execution_count": 42,
          "metadata": {},
          "output_type": "execute_result"
        }
      ],
      "source": [
        "train_size"
      ]
    },
    {
      "cell_type": "code",
      "execution_count": null,
      "metadata": {
        "id": "WFMcf8LYh2CA"
      },
      "outputs": [],
      "source": [
        "train_dataset = dataset.take(train_size)\n",
        "val_dataset = dataset.skip(train_size)"
      ]
    },
    {
      "cell_type": "markdown",
      "metadata": {
        "id": "fqAvnV3FnSWt"
      },
      "source": [
        "### **Model**"
      ]
    },
    {
      "cell_type": "code",
      "execution_count": null,
      "metadata": {
        "id": "T8aGqiBeiVX2"
      },
      "outputs": [],
      "source": [
        "from transformers import TFBertModel"
      ]
    },
    {
      "cell_type": "code",
      "execution_count": null,
      "metadata": {
        "colab": {
          "base_uri": "https://localhost:8080/"
        },
        "id": "eet_Ecyqicit",
        "outputId": "6541828d-31c1-45ea-fe20-05156685439c"
      },
      "outputs": [
        {
          "name": "stderr",
          "output_type": "stream",
          "text": [
            "Some weights of the PyTorch model were not used when initializing the TF 2.0 model TFBertModel: ['cls.predictions.bias', 'cls.seq_relationship.weight', 'cls.predictions.transform.LayerNorm.bias', 'cls.predictions.transform.dense.bias', 'cls.predictions.transform.dense.weight', 'cls.predictions.transform.LayerNorm.weight', 'cls.seq_relationship.bias']\n",
            "- This IS expected if you are initializing TFBertModel from a PyTorch model trained on another task or with another architecture (e.g. initializing a TFBertForSequenceClassification model from a BertForPreTraining model).\n",
            "- This IS NOT expected if you are initializing TFBertModel from a PyTorch model that you expect to be exactly identical (e.g. initializing a TFBertForSequenceClassification model from a BertForSequenceClassification model).\n",
            "All the weights of TFBertModel were initialized from the PyTorch model.\n",
            "If your task is similar to the task the model of the checkpoint was trained on, you can already use TFBertModel for predictions without further training.\n"
          ]
        }
      ],
      "source": [
        "model = TFBertModel.from_pretrained('bert-base-cased') # bert base model with pretrained weights"
      ]
    },
    {
      "cell_type": "code",
      "execution_count": null,
      "metadata": {
        "colab": {
          "base_uri": "https://localhost:8080/"
        },
        "id": "i1PmnsrQjTkr",
        "outputId": "bb760723-22cb-493a-d835-62013edfef4d"
      },
      "outputs": [
        {
          "name": "stdout",
          "output_type": "stream",
          "text": [
            "Model: \"model_1\"\n",
            "__________________________________________________________________________________________________\n",
            " Layer (type)                Output Shape                 Param #   Connected to                  \n",
            "==================================================================================================\n",
            " input_ids (InputLayer)      [(None, 256)]                0         []                            \n",
            "                                                                                                  \n",
            " attention_mask (InputLayer  [(None, 256)]                0         []                            \n",
            " )                                                                                                \n",
            "                                                                                                  \n",
            " bert (TFBertMainLayer)      TFBaseModelOutputWithPooli   1083102   ['input_ids[0][0]',           \n",
            "                             ngAndCrossAttentions(last_   72         'attention_mask[0][0]']      \n",
            "                             hidden_state=(None, 256, 7                                           \n",
            "                             68),                                                                 \n",
            "                              pooler_output=(None, 768)                                           \n",
            "                             , past_key_values=None, hi                                           \n",
            "                             dden_states=None, attentio                                           \n",
            "                             ns=None, cross_attentions=                                           \n",
            "                             None)                                                                \n",
            "                                                                                                  \n",
            " intermediate_layer (Dense)  (None, 512)                  393728    ['bert[0][1]']                \n",
            "                                                                                                  \n",
            " output_layer (Dense)        (None, 4)                    2052      ['intermediate_layer[0][0]']  \n",
            "                                                                                                  \n",
            "==================================================================================================\n",
            "Total params: 108706052 (414.68 MB)\n",
            "Trainable params: 108706052 (414.68 MB)\n",
            "Non-trainable params: 0 (0.00 Byte)\n",
            "__________________________________________________________________________________________________\n"
          ]
        }
      ],
      "source": [
        "# defining 2 input layers for input_ids and attn_masks\n",
        "input_ids = tf.keras.layers.Input(shape=(256,), name='input_ids', dtype='int32')\n",
        "attn_masks = tf.keras.layers.Input(shape=(256,), name='attention_mask', dtype='int32')\n",
        "\n",
        "bert_embds = model.bert(input_ids, attention_mask=attn_masks)[1] # 0 -> activation layer (3D), 1 -> pooled output layer (2D)\n",
        "intermediate_layer = tf.keras.layers.Dense(512, activation='relu', name='intermediate_layer')(bert_embds)\n",
        "output_layer = tf.keras.layers.Dense(4, activation='softmax', name='output_layer')(intermediate_layer) # softmax -> calcs probs of classes\n",
        "\n",
        "sentiment_model = tf.keras.Model(inputs=[input_ids, attn_masks], outputs=output_layer)\n",
        "sentiment_model.summary()"
      ]
    },
    {
      "cell_type": "code",
      "execution_count": null,
      "metadata": {
        "id": "u942UCmIjdh8"
      },
      "outputs": [],
      "source": [
        "optim = tf.keras.optimizers.legacy.Adam(learning_rate=1e-5, decay=1e-6)\n",
        "loss_func = tf.keras.losses.CategoricalCrossentropy()\n",
        "acc = tf.keras.metrics.CategoricalAccuracy('accuracy')"
      ]
    },
    {
      "cell_type": "code",
      "execution_count": null,
      "metadata": {
        "id": "VUeud6qdmTQE"
      },
      "outputs": [],
      "source": [
        "sentiment_model.compile(optimizer=optim, loss=loss_func, metrics=[acc])"
      ]
    },
    {
      "cell_type": "code",
      "execution_count": null,
      "metadata": {
        "colab": {
          "base_uri": "https://localhost:8080/"
        },
        "id": "KH1MVgBpmf_s",
        "outputId": "06b87788-0abb-4d65-d1e3-3e54643c8bb9"
      },
      "outputs": [
        {
          "name": "stdout",
          "output_type": "stream",
          "text": [
            "Epoch 1/7\n",
            "41/41 [==============================] - 53s 881ms/step - loss: 1.0316 - accuracy: 0.6951 - val_loss: 0.3879 - val_accuracy: 0.9943\n",
            "Epoch 2/7\n",
            "41/41 [==============================] - 35s 850ms/step - loss: 0.1777 - accuracy: 0.9970 - val_loss: 0.0320 - val_accuracy: 1.0000\n",
            "Epoch 3/7\n",
            "41/41 [==============================] - 36s 875ms/step - loss: 0.0281 - accuracy: 1.0000 - val_loss: 0.0105 - val_accuracy: 1.0000\n",
            "Epoch 4/7\n",
            "41/41 [==============================] - 36s 875ms/step - loss: 0.0130 - accuracy: 1.0000 - val_loss: 0.0062 - val_accuracy: 1.0000\n",
            "Epoch 5/7\n",
            "41/41 [==============================] - 36s 872ms/step - loss: 0.0080 - accuracy: 1.0000 - val_loss: 0.0041 - val_accuracy: 1.0000\n",
            "Epoch 6/7\n",
            "41/41 [==============================] - 38s 923ms/step - loss: 0.0056 - accuracy: 1.0000 - val_loss: 0.0026 - val_accuracy: 1.0000\n",
            "Epoch 7/7\n",
            "41/41 [==============================] - 36s 874ms/step - loss: 0.0040 - accuracy: 1.0000 - val_loss: 0.0020 - val_accuracy: 1.0000\n"
          ]
        }
      ],
      "source": [
        "hist = sentiment_model.fit(\n",
        "    train_dataset,\n",
        "    validation_data=val_dataset,\n",
        "    epochs=7\n",
        ")"
      ]
    },
    {
      "cell_type": "code",
      "execution_count": null,
      "metadata": {
        "id": "t-khCjt5mgy9"
      },
      "outputs": [],
      "source": [
        "sentiment_model.save('classification_model')"
      ]
    },
    {
      "cell_type": "markdown",
      "metadata": {
        "id": "V_KLbxpondY0"
      },
      "source": [
        "### **Prediction**"
      ]
    },
    {
      "cell_type": "code",
      "execution_count": null,
      "metadata": {
        "id": "71CGQvvsmgvM"
      },
      "outputs": [],
      "source": [
        "sentiment_model = tf.keras.models.load_model('classification_model')\n",
        "\n",
        "tokenizer = BertTokenizer.from_pretrained('bert-base-cased')\n",
        "\n",
        "def prepare_data(input_text, tokenizer):\n",
        "    token = tokenizer.encode_plus(\n",
        "        input_text,\n",
        "        max_length=256,\n",
        "        truncation=True,\n",
        "        padding='max_length',\n",
        "        add_special_tokens=True,\n",
        "        return_tensors='tf'\n",
        "    )\n",
        "    return {\n",
        "        'input_ids': tf.cast(token.input_ids, tf.float64),\n",
        "        'attention_mask': tf.cast(token.attention_mask, tf.float64)\n",
        "    }\n",
        "\n",
        "def make_prediction(model, processed_data, classes=['Who is here', 'Is x here?', 'How many people are here?', 'Who here do I not know?']):\n",
        "    probs = model.predict(processed_data)[0]\n",
        "    return classes[np.argmax(probs)]"
      ]
    },
    {
      "cell_type": "code",
      "execution_count": null,
      "metadata": {
        "colab": {
          "base_uri": "https://localhost:8080/"
        },
        "id": "IEUtfSk9mguB",
        "outputId": "2579ecc3-7653-4f2a-a9c1-6ab3630c8657"
      },
      "outputs": [
        {
          "name": "stdout",
          "output_type": "stream",
          "text": [
            "Enter example prompt here: my golly girl, i don't know that girl over there, do you?\n",
            "1/1 [==============================] - 0s 66ms/step\n",
            "Predicted Model: Who is here\n"
          ]
        }
      ],
      "source": [
        "input_text = input('Enter example prompt here: ')\n",
        "processed_data = prepare_data(input_text, tokenizer)\n",
        "result = make_prediction(sentiment_model, processed_data=processed_data)\n",
        "print(f\"Predicted Model: {result}\")"
      ]
    },
    {
      "cell_type": "code",
      "execution_count": null,
      "metadata": {
        "colab": {
          "base_uri": "https://localhost:8080/"
        },
        "id": "yFbFY_XItOVr",
        "outputId": "069029a0-9893-49f5-c336-da7d6c9f6b90"
      },
      "outputs": [
        {
          "name": "stdout",
          "output_type": "stream",
          "text": [
            "  adding: content/classification_model/ (stored 0%)\n",
            "  adding: content/classification_model/variables/ (stored 0%)\n",
            "  adding: content/classification_model/variables/variables.data-00000-of-00001 (deflated 20%)\n",
            "  adding: content/classification_model/variables/variables.index (deflated 80%)\n",
            "  adding: content/classification_model/fingerprint.pb (stored 0%)\n",
            "  adding: content/classification_model/saved_model.pb (deflated 92%)\n",
            "  adding: content/classification_model/keras_metadata.pb (deflated 95%)\n",
            "  adding: content/classification_model/assets/ (stored 0%)\n"
          ]
        }
      ],
      "source": [
        "!zip -r /content/model.zip /content/classification_model"
      ]
    },
    {
      "cell_type": "code",
      "execution_count": null,
      "metadata": {
        "colab": {
          "base_uri": "https://localhost:8080/",
          "height": 34
        },
        "id": "19pGBiWYtskL",
        "outputId": "068ed6d1-7834-4491-90ff-0e1e4540efd5"
      },
      "outputs": [
        {
          "data": {
            "application/javascript": "\n    async function download(id, filename, size) {\n      if (!google.colab.kernel.accessAllowed) {\n        return;\n      }\n      const div = document.createElement('div');\n      const label = document.createElement('label');\n      label.textContent = `Downloading \"${filename}\": `;\n      div.appendChild(label);\n      const progress = document.createElement('progress');\n      progress.max = size;\n      div.appendChild(progress);\n      document.body.appendChild(div);\n\n      const buffers = [];\n      let downloaded = 0;\n\n      const channel = await google.colab.kernel.comms.open(id);\n      // Send a message to notify the kernel that we're ready.\n      channel.send({})\n\n      for await (const message of channel.messages) {\n        // Send a message to notify the kernel that we're ready.\n        channel.send({})\n        if (message.buffers) {\n          for (const buffer of message.buffers) {\n            buffers.push(buffer);\n            downloaded += buffer.byteLength;\n            progress.value = downloaded;\n          }\n        }\n      }\n      const blob = new Blob(buffers, {type: 'application/binary'});\n      const a = document.createElement('a');\n      a.href = window.URL.createObjectURL(blob);\n      a.download = filename;\n      div.appendChild(a);\n      a.click();\n      div.remove();\n    }\n  ",
            "text/plain": [
              "<IPython.core.display.Javascript object>"
            ]
          },
          "metadata": {},
          "output_type": "display_data"
        },
        {
          "data": {
            "application/javascript": "download(\"download_dd059df1-62e4-4305-9938-eff49d3c8947\", \"model.zip\", 1038411045)",
            "text/plain": [
              "<IPython.core.display.Javascript object>"
            ]
          },
          "metadata": {},
          "output_type": "display_data"
        }
      ],
      "source": [
        "from google.colab import files\n",
        "files.download(\"/content/model.zip\")"
      ]
    },
    {
      "cell_type": "code",
      "execution_count": null,
      "metadata": {
        "id": "_f6QYPH5uKRO"
      },
      "outputs": [],
      "source": []
    }
  ],
  "metadata": {
    "accelerator": "GPU",
    "colab": {
      "provenance": []
    },
    "kernelspec": {
      "display_name": "Python 3",
      "name": "python3"
    },
    "language_info": {
      "codemirror_mode": {
        "name": "ipython",
        "version": 3
      },
      "file_extension": ".py",
      "mimetype": "text/x-python",
      "name": "python",
      "nbconvert_exporter": "python",
      "pygments_lexer": "ipython3",
      "version": "3.8.19"
    },
    "widgets": {
      "application/vnd.jupyter.widget-state+json": {
        "0a635d78ada04b5abe587ab00e5c2085": {
          "model_module": "@jupyter-widgets/controls",
          "model_module_version": "1.5.0",
          "model_name": "HBoxModel",
          "state": {
            "_dom_classes": [],
            "_model_module": "@jupyter-widgets/controls",
            "_model_module_version": "1.5.0",
            "_model_name": "HBoxModel",
            "_view_count": null,
            "_view_module": "@jupyter-widgets/controls",
            "_view_module_version": "1.5.0",
            "_view_name": "HBoxView",
            "box_style": "",
            "children": [
              "IPY_MODEL_fbbf8ed24b014e7daf8fb70b1e8fbc9d",
              "IPY_MODEL_2f1b802a47fe4bc4b292c146f1ccdc26",
              "IPY_MODEL_84390b51a7b94b3491fbcc7bbd9e7816"
            ],
            "layout": "IPY_MODEL_bed90917b86948ec87555e68cc00a2b8"
          }
        },
        "1664070c3c874e158d809926e04e7b03": {
          "model_module": "@jupyter-widgets/controls",
          "model_module_version": "1.5.0",
          "model_name": "DescriptionStyleModel",
          "state": {
            "_model_module": "@jupyter-widgets/controls",
            "_model_module_version": "1.5.0",
            "_model_name": "DescriptionStyleModel",
            "_view_count": null,
            "_view_module": "@jupyter-widgets/base",
            "_view_module_version": "1.2.0",
            "_view_name": "StyleView",
            "description_width": ""
          }
        },
        "2847957a962047b4ae5f3a4b041f21b9": {
          "model_module": "@jupyter-widgets/controls",
          "model_module_version": "1.5.0",
          "model_name": "ProgressStyleModel",
          "state": {
            "_model_module": "@jupyter-widgets/controls",
            "_model_module_version": "1.5.0",
            "_model_name": "ProgressStyleModel",
            "_view_count": null,
            "_view_module": "@jupyter-widgets/base",
            "_view_module_version": "1.2.0",
            "_view_name": "StyleView",
            "bar_color": null,
            "description_width": ""
          }
        },
        "2f1b802a47fe4bc4b292c146f1ccdc26": {
          "model_module": "@jupyter-widgets/controls",
          "model_module_version": "1.5.0",
          "model_name": "FloatProgressModel",
          "state": {
            "_dom_classes": [],
            "_model_module": "@jupyter-widgets/controls",
            "_model_module_version": "1.5.0",
            "_model_name": "FloatProgressModel",
            "_view_count": null,
            "_view_module": "@jupyter-widgets/controls",
            "_view_module_version": "1.5.0",
            "_view_name": "ProgressView",
            "bar_style": "success",
            "description": "",
            "description_tooltip": null,
            "layout": "IPY_MODEL_a9e0ef4a1995425d8bfc6a6b66f9d65c",
            "max": 1,
            "min": 0,
            "orientation": "horizontal",
            "style": "IPY_MODEL_2847957a962047b4ae5f3a4b041f21b9",
            "value": 1
          }
        },
        "809baaa79dc743dd83ca56497f161951": {
          "model_module": "@jupyter-widgets/base",
          "model_module_version": "1.2.0",
          "model_name": "LayoutModel",
          "state": {
            "_model_module": "@jupyter-widgets/base",
            "_model_module_version": "1.2.0",
            "_model_name": "LayoutModel",
            "_view_count": null,
            "_view_module": "@jupyter-widgets/base",
            "_view_module_version": "1.2.0",
            "_view_name": "LayoutView",
            "align_content": null,
            "align_items": null,
            "align_self": null,
            "border": null,
            "bottom": null,
            "display": null,
            "flex": null,
            "flex_flow": null,
            "grid_area": null,
            "grid_auto_columns": null,
            "grid_auto_flow": null,
            "grid_auto_rows": null,
            "grid_column": null,
            "grid_gap": null,
            "grid_row": null,
            "grid_template_areas": null,
            "grid_template_columns": null,
            "grid_template_rows": null,
            "height": null,
            "justify_content": null,
            "justify_items": null,
            "left": null,
            "margin": null,
            "max_height": null,
            "max_width": null,
            "min_height": null,
            "min_width": null,
            "object_fit": null,
            "object_position": null,
            "order": null,
            "overflow": null,
            "overflow_x": null,
            "overflow_y": null,
            "padding": null,
            "right": null,
            "top": null,
            "visibility": null,
            "width": null
          }
        },
        "84390b51a7b94b3491fbcc7bbd9e7816": {
          "model_module": "@jupyter-widgets/controls",
          "model_module_version": "1.5.0",
          "model_name": "HTMLModel",
          "state": {
            "_dom_classes": [],
            "_model_module": "@jupyter-widgets/controls",
            "_model_module_version": "1.5.0",
            "_model_name": "HTMLModel",
            "_view_count": null,
            "_view_module": "@jupyter-widgets/controls",
            "_view_module_version": "1.5.0",
            "_view_name": "HTMLView",
            "description": "",
            "description_tooltip": null,
            "layout": "IPY_MODEL_ef6d7e9d96d140fd8d738127ead50dc8",
            "placeholder": "​",
            "style": "IPY_MODEL_1664070c3c874e158d809926e04e7b03",
            "value": " 838/? [00:00&lt;00:00, 1906.59it/s]"
          }
        },
        "a9e0ef4a1995425d8bfc6a6b66f9d65c": {
          "model_module": "@jupyter-widgets/base",
          "model_module_version": "1.2.0",
          "model_name": "LayoutModel",
          "state": {
            "_model_module": "@jupyter-widgets/base",
            "_model_module_version": "1.2.0",
            "_model_name": "LayoutModel",
            "_view_count": null,
            "_view_module": "@jupyter-widgets/base",
            "_view_module_version": "1.2.0",
            "_view_name": "LayoutView",
            "align_content": null,
            "align_items": null,
            "align_self": null,
            "border": null,
            "bottom": null,
            "display": null,
            "flex": null,
            "flex_flow": null,
            "grid_area": null,
            "grid_auto_columns": null,
            "grid_auto_flow": null,
            "grid_auto_rows": null,
            "grid_column": null,
            "grid_gap": null,
            "grid_row": null,
            "grid_template_areas": null,
            "grid_template_columns": null,
            "grid_template_rows": null,
            "height": null,
            "justify_content": null,
            "justify_items": null,
            "left": null,
            "margin": null,
            "max_height": null,
            "max_width": null,
            "min_height": null,
            "min_width": null,
            "object_fit": null,
            "object_position": null,
            "order": null,
            "overflow": null,
            "overflow_x": null,
            "overflow_y": null,
            "padding": null,
            "right": null,
            "top": null,
            "visibility": null,
            "width": "20px"
          }
        },
        "bed90917b86948ec87555e68cc00a2b8": {
          "model_module": "@jupyter-widgets/base",
          "model_module_version": "1.2.0",
          "model_name": "LayoutModel",
          "state": {
            "_model_module": "@jupyter-widgets/base",
            "_model_module_version": "1.2.0",
            "_model_name": "LayoutModel",
            "_view_count": null,
            "_view_module": "@jupyter-widgets/base",
            "_view_module_version": "1.2.0",
            "_view_name": "LayoutView",
            "align_content": null,
            "align_items": null,
            "align_self": null,
            "border": null,
            "bottom": null,
            "display": null,
            "flex": null,
            "flex_flow": null,
            "grid_area": null,
            "grid_auto_columns": null,
            "grid_auto_flow": null,
            "grid_auto_rows": null,
            "grid_column": null,
            "grid_gap": null,
            "grid_row": null,
            "grid_template_areas": null,
            "grid_template_columns": null,
            "grid_template_rows": null,
            "height": null,
            "justify_content": null,
            "justify_items": null,
            "left": null,
            "margin": null,
            "max_height": null,
            "max_width": null,
            "min_height": null,
            "min_width": null,
            "object_fit": null,
            "object_position": null,
            "order": null,
            "overflow": null,
            "overflow_x": null,
            "overflow_y": null,
            "padding": null,
            "right": null,
            "top": null,
            "visibility": null,
            "width": null
          }
        },
        "c1219e71a8924b58aa30f849e1bc607e": {
          "model_module": "@jupyter-widgets/controls",
          "model_module_version": "1.5.0",
          "model_name": "DescriptionStyleModel",
          "state": {
            "_model_module": "@jupyter-widgets/controls",
            "_model_module_version": "1.5.0",
            "_model_name": "DescriptionStyleModel",
            "_view_count": null,
            "_view_module": "@jupyter-widgets/base",
            "_view_module_version": "1.2.0",
            "_view_name": "StyleView",
            "description_width": ""
          }
        },
        "ef6d7e9d96d140fd8d738127ead50dc8": {
          "model_module": "@jupyter-widgets/base",
          "model_module_version": "1.2.0",
          "model_name": "LayoutModel",
          "state": {
            "_model_module": "@jupyter-widgets/base",
            "_model_module_version": "1.2.0",
            "_model_name": "LayoutModel",
            "_view_count": null,
            "_view_module": "@jupyter-widgets/base",
            "_view_module_version": "1.2.0",
            "_view_name": "LayoutView",
            "align_content": null,
            "align_items": null,
            "align_self": null,
            "border": null,
            "bottom": null,
            "display": null,
            "flex": null,
            "flex_flow": null,
            "grid_area": null,
            "grid_auto_columns": null,
            "grid_auto_flow": null,
            "grid_auto_rows": null,
            "grid_column": null,
            "grid_gap": null,
            "grid_row": null,
            "grid_template_areas": null,
            "grid_template_columns": null,
            "grid_template_rows": null,
            "height": null,
            "justify_content": null,
            "justify_items": null,
            "left": null,
            "margin": null,
            "max_height": null,
            "max_width": null,
            "min_height": null,
            "min_width": null,
            "object_fit": null,
            "object_position": null,
            "order": null,
            "overflow": null,
            "overflow_x": null,
            "overflow_y": null,
            "padding": null,
            "right": null,
            "top": null,
            "visibility": null,
            "width": null
          }
        },
        "fbbf8ed24b014e7daf8fb70b1e8fbc9d": {
          "model_module": "@jupyter-widgets/controls",
          "model_module_version": "1.5.0",
          "model_name": "HTMLModel",
          "state": {
            "_dom_classes": [],
            "_model_module": "@jupyter-widgets/controls",
            "_model_module_version": "1.5.0",
            "_model_name": "HTMLModel",
            "_view_count": null,
            "_view_module": "@jupyter-widgets/controls",
            "_view_module_version": "1.5.0",
            "_view_name": "HTMLView",
            "description": "",
            "description_tooltip": null,
            "layout": "IPY_MODEL_809baaa79dc743dd83ca56497f161951",
            "placeholder": "​",
            "style": "IPY_MODEL_c1219e71a8924b58aa30f849e1bc607e",
            "value": ""
          }
        }
      }
    }
  },
  "nbformat": 4,
  "nbformat_minor": 0
}
